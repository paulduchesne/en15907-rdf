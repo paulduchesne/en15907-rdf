{
 "cells": [
  {
   "cell_type": "code",
   "execution_count": 1,
   "metadata": {},
   "outputs": [
    {
     "name": "stdout",
     "output_type": "stream",
     "text": [
      "477\n"
     ]
    }
   ],
   "source": [
    "import json\n",
    "import pathlib\n",
    "import rdflib\n",
    "\n",
    "with open(pathlib.Path.cwd() / 'en15907.json') as model:\n",
    "    model = json.load(model)\n",
    "\n",
    "graph = rdflib.Graph()\n",
    "namespace = rdflib.Namespace('http://filmstandards.org/')\n",
    "\n",
    "for x in model:\n",
    "\n",
    "    if 'entity' in x:\n",
    "        name = x['entity']\n",
    "        uri = namespace[name.replace(' ', '')]\n",
    "        graph.add((uri, rdflib.RDF.type, rdflib.OWL.Class))\n",
    "        graph.add((uri, rdflib.RDFS.label, rdflib.Literal(name, lang='en')))\n",
    "\n",
    "        if 'Allowed relationships' in x:\n",
    "            if len(x['Allowed relationships']):\n",
    "                predicates = x['Allowed relationships']\n",
    "                for p in predicates:\n",
    "                    p_uri = namespace[p.replace(' ', '')]\n",
    "                    graph.add((p_uri, rdflib.RDF.type, rdflib.OWL.ObjectProperty))\n",
    "                    graph.add((p_uri, rdflib.RDFS.label, rdflib.Literal(p, lang='en')))\n",
    "                    graph.add((p_uri, rdflib.RDFS.domain, uri))\n",
    "                    property_range = p.replace('HasAs', '').replace('Has', '')\n",
    "                    graph.add((p_uri, rdflib.RDFS.range, namespace[property_range]))\n",
    "\n",
    "        if 'Elements' in x:\n",
    "            elements = x['Elements']\n",
    "            for e in elements:\n",
    "                prop = 'Has '+e\n",
    "                p_uri = namespace[prop.replace(' ', '')]\n",
    "                e_uri = namespace[e.replace(' ', '')]\n",
    "                graph.add((p_uri, rdflib.RDF.type, rdflib.OWL.ObjectProperty))\n",
    "                graph.add((p_uri, rdflib.RDFS.label, rdflib.Literal(prop, lang='en')))\n",
    "                graph.add((p_uri, rdflib.RDFS.domain, uri))\n",
    "                graph.add((p_uri, rdflib.RDFS.range, e_uri))\n",
    "\n",
    "        if 'Attributes' in x:\n",
    "            attributes = x['Attributes']\n",
    "            for a in attributes:\n",
    "                prop = 'Has '+a\n",
    "                p_uri = namespace[prop.replace(' ', '')]\n",
    "                graph.add((p_uri, rdflib.RDF.type, rdflib.OWL.DatatypeProperty))\n",
    "                graph.add((p_uri, rdflib.RDFS.label, rdflib.Literal(prop, lang='en')))\n",
    "                graph.add((p_uri, rdflib.RDFS.domain, uri))\n",
    "\n",
    "    if 'element' in x:\n",
    "        name = x['element']\n",
    "        uri = namespace[name.replace(' ', '')]\n",
    "        graph.add((uri, rdflib.RDF.type, rdflib.OWL.Class))\n",
    "        graph.add((uri, rdflib.RDFS.label, rdflib.Literal(name, lang='en')))\n",
    "\n",
    "        if 'Allowed relationships' in x:\n",
    "            if len(x['Allowed relationships']):\n",
    "                predicates = x['Allowed relationships']\n",
    "                for p in predicates:\n",
    "                    p_uri = namespace[p.replace(' ', '')]\n",
    "                    graph.add((p_uri, rdflib.RDF.type, rdflib.OWL.ObjectProperty))\n",
    "                    graph.add((p_uri, rdflib.RDFS.label, rdflib.Literal(p, lang='en')))\n",
    "                    graph.add((p_uri, rdflib.RDFS.domain, uri))\n",
    "                    property_range = p.replace('HasAs', '').replace('Has', '')\n",
    "                    graph.add((p_uri, rdflib.RDFS.range, namespace[property_range]))\n",
    "\n",
    "        if 'Elements' in x:\n",
    "            elements = x['Elements']\n",
    "            for e in elements:\n",
    "                prop = 'Has '+e\n",
    "                p_uri = namespace[prop.replace(' ', '')]\n",
    "                e_uri = namespace[e.replace(' ', '')]\n",
    "                graph.add((p_uri, rdflib.RDF.type, rdflib.OWL.ObjectProperty))\n",
    "                graph.add((p_uri, rdflib.RDFS.label, rdflib.Literal(prop, lang='en')))\n",
    "                graph.add((p_uri, rdflib.RDFS.domain, uri))\n",
    "                graph.add((p_uri, rdflib.RDFS.range, e_uri))\n",
    "\n",
    "        if 'Attributes' in x:\n",
    "            attributes = x['Attributes']\n",
    "            for a in attributes:\n",
    "                prop = 'Has '+a\n",
    "                p_uri = namespace[prop.replace(' ', '')]\n",
    "                graph.add((p_uri, rdflib.RDF.type, rdflib.OWL.DatatypeProperty))\n",
    "                graph.add((p_uri, rdflib.RDFS.label, rdflib.Literal(prop, lang='en')))\n",
    "                graph.add((p_uri, rdflib.RDFS.domain, uri))\n",
    "\n",
    "print(len(graph))"
   ]
  },
  {
   "cell_type": "code",
   "execution_count": 2,
   "metadata": {},
   "outputs": [
    {
     "name": "stdout",
     "output_type": "stream",
     "text": [
      "all done\n"
     ]
    }
   ],
   "source": [
    "turtle_path = pathlib.Path.cwd() / 'en15907.ttl'\n",
    "graph.serialize(destination=str(turtle_path), format='turtle')\n",
    "print('all done')"
   ]
  }
 ],
 "metadata": {
  "interpreter": {
   "hash": "916dbcbb3f70747c44a77c7bcd40155683ae19c65e1c03b4aa3499c5328201f1"
  },
  "kernelspec": {
   "display_name": "Python 3.9.7 64-bit",
   "language": "python",
   "name": "python3"
  },
  "language_info": {
   "codemirror_mode": {
    "name": "ipython",
    "version": 3
   },
   "file_extension": ".py",
   "mimetype": "text/x-python",
   "name": "python",
   "nbconvert_exporter": "python",
   "pygments_lexer": "ipython3",
   "version": "3.9.7"
  },
  "orig_nbformat": 4
 },
 "nbformat": 4,
 "nbformat_minor": 2
}
